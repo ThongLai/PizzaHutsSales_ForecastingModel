{
 "cells": [
  {
   "cell_type": "markdown",
   "metadata": {},
   "source": [
    "# Pizza Huts Sales Forecasting Model"
   ]
  },
  {
   "cell_type": "code",
   "execution_count": 2,
   "metadata": {
    "scrolled": true
   },
   "outputs": [
    {
     "name": "stdout",
     "output_type": "stream",
     "text": [
      "WARNING:tensorflow:From D:\\Thong Lai\\.venv\\TensorFlow\\Lib\\site-packages\\keras\\src\\losses.py:2976: The name tf.losses.sparse_softmax_cross_entropy is deprecated. Please use tf.compat.v1.losses.sparse_softmax_cross_entropy instead.\n",
      "\n"
     ]
    }
   ],
   "source": [
    "# Scikit-Learn ≥0.20 is required\n",
    "import sklearn\n",
    "from sklearn.model_selection import train_test_split\n",
    "assert sklearn.__version__ >= \"0.20\"\n",
    "\n",
    "# TensorFlow ≥2.0 is required\n",
    "import tensorflow as tf\n",
    "from tensorflow import keras\n",
    "from tensorflow.keras.models import Sequential\n",
    "from tensorflow.keras.layers import Flatten, Dense\n",
    "from tensorflow.keras.optimizers import Adam\n",
    "from tensorflow.keras.metrics import categorical_crossentropy\n",
    "assert tf.__version__ >= \"2.0\"\n",
    "\n",
    "# Common imports\n",
    "import numpy as np\n",
    "import pandas as pd\n",
    "import os\n",
    "import json\n",
    "\n",
    "# To plot pretty figures\n",
    "%matplotlib inline\n",
    "import matplotlib as mpl\n",
    "import matplotlib.pyplot as plt\n",
    "mpl.rc('axes', labelsize=14)\n",
    "mpl.rc('xtick', labelsize=12)\n",
    "mpl.rc('ytick', labelsize=12)\n",
    "\n",
    "# To make this notebook's output stable across runs\n",
    "np.random.seed(42)\n",
    "tf.random.set_seed(42)"
   ]
  },
  {
   "cell_type": "code",
   "execution_count": 3,
   "metadata": {},
   "outputs": [],
   "source": [
    "# Plotting ahead multiple times        \n",
    "def plot_forecasts(X, Y, yPred, index=0, YLabel='Actual', yPredLabel='Forecast'):\n",
    "    store_index = 1\n",
    "    plt.plot(X[index], marker=\".\", )\n",
    "    if len(Y) > 0:\n",
    "        plt.plot(range(X.shape[1], X.shape[1]+Y.shape[1]), Y[index], label=YLabel, marker=\"o\", c='b')\n",
    "    plt.plot(range(X.shape[1], X.shape[1]+yPred.shape[1]), yPred[index], label=yPredLabel, marker=\"x\", c='r')\n",
    "    \n",
    "    plt.axhline() \n",
    "    plt.grid(True)\n",
    "    plt.xlabel('$t$')\n",
    "    plt.ylabel('$x(t)$', rotation=0)\n",
    "    plt.legend()\n",
    "\n",
    "# Plotting training & validation loss graph\n",
    "def plot_loss_graph(loss_values):\n",
    "    plt.plot(loss_values['loss'], marker='.', label='Testing Loss')\n",
    "    plt.plot(loss_values['val_loss'], marker='.', label='Validation Loss')\n",
    "    \n",
    "    plt.grid(True)\n",
    "    plt.xlabel('Epochs')\n",
    "    plt.ylabel('Loss')\n",
    "    plt.legend()\n",
    "\n",
    "# Where to save the figures\n",
    "PROJECT_ROOT_DIR = \".\"\n",
    "CHAPTER_ID = \"rnn\"\n",
    "IMAGES_PATH = os.path.join(PROJECT_ROOT_DIR, \"images\", CHAPTER_ID)\n",
    "os.makedirs(IMAGES_PATH, exist_ok=True)\n",
    "\n",
    "# Call when after creating a graph but before using plt.show() with the fig_id being name of file\n",
    "def save_fig(fig_id, tight_layout=True, fig_extension=\"png\", resolution=300):\n",
    "    path = os.path.join(IMAGES_PATH, fig_id + \".\" + fig_extension)\n",
    "    print(\"Saving figure\", fig_id)\n",
    "    if tight_layout:\n",
    "        plt.tight_layout()\n",
    "    plt.savefig(path, format=fig_extension, dpi=resolution)"
   ]
  },
  {
   "cell_type": "markdown",
   "metadata": {},
   "source": [
    "This makes the code reproduce same results when using random determined code, alter the number to change the results. Also, check if a function has a random_state parameter, if it does add a number to make it reproduce the same results.\n",
    "```py\n",
    "np.random.seed(42)\n",
    "tf.random.set_seed(42)\n",
    "```"
   ]
  },
  {
   "cell_type": "markdown",
   "metadata": {},
   "source": [
    "## Task 1: Loading and formatting the provided JSON data."
   ]
  },
  {
   "cell_type": "markdown",
   "metadata": {},
   "source": [
    "#### Load JSON File"
   ]
  },
  {
   "cell_type": "code",
   "execution_count": 4,
   "metadata": {},
   "outputs": [],
   "source": [
    "DATAPATH = \"data.json\""
   ]
  },
  {
   "cell_type": "code",
   "execution_count": 5,
   "metadata": {
    "scrolled": true
   },
   "outputs": [],
   "source": [
    "# Read the JSON file\n",
    "with open(DATAPATH) as json_file:\n",
    "    data = json.load(json_file)"
   ]
  },
  {
   "cell_type": "markdown",
   "metadata": {},
   "source": [
    "### Forecast 1 month"
   ]
  },
  {
   "cell_type": "markdown",
   "metadata": {},
   "source": [
    "#### First 50 months sales"
   ]
  },
  {
   "cell_type": "code",
   "execution_count": 6,
   "metadata": {},
   "outputs": [
    {
     "data": {
      "text/plain": [
       "(15000, 50, 1)"
      ]
     },
     "execution_count": 6,
     "metadata": {},
     "output_type": "execute_result"
    }
   ],
   "source": [
    "X = np.array([list(store.values())[:50] for store in data.values()])\n",
    "X = np.expand_dims(X, axis=-1)\n",
    "X.shape"
   ]
  },
  {
   "cell_type": "markdown",
   "metadata": {},
   "source": [
    "#### $51^{st}$ months sales"
   ]
  },
  {
   "cell_type": "code",
   "execution_count": 7,
   "metadata": {
    "scrolled": true
   },
   "outputs": [
    {
     "data": {
      "text/plain": [
       "(15000, 1)"
      ]
     },
     "execution_count": 7,
     "metadata": {},
     "output_type": "execute_result"
    }
   ],
   "source": [
    "Y = np.array([list(store.values())[50] for store in data.values()])\n",
    "Y = np.expand_dims(Y, axis=-1)\n",
    "Y.shape"
   ]
  },
  {
   "cell_type": "markdown",
   "metadata": {},
   "source": [
    "## Task 2: Developing and optimizing a time series model for sales prediction."
   ]
  },
  {
   "cell_type": "markdown",
   "metadata": {},
   "source": [
    "#### Design model"
   ]
  },
  {
   "cell_type": "code",
   "execution_count": 8,
   "metadata": {},
   "outputs": [],
   "source": [
    "def last_time_step_mse(Y_true, Y_pred): \n",
    "    return keras.metrics.mean_squared_error(Y_true[:, -1], Y_pred[:, -1])"
   ]
  },
  {
   "cell_type": "code",
   "execution_count": 9,
   "metadata": {},
   "outputs": [
    {
     "name": "stdout",
     "output_type": "stream",
     "text": [
      "WARNING:tensorflow:From D:\\Thong Lai\\.venv\\TensorFlow\\Lib\\site-packages\\keras\\src\\backend.py:873: The name tf.get_default_graph is deprecated. Please use tf.compat.v1.get_default_graph instead.\n",
      "\n"
     ]
    }
   ],
   "source": [
    "model = Sequential([\n",
    "    Flatten(input_shape=[50, 1]),\n",
    "    Dense(16),\n",
    "    Dense(16),\n",
    "    Dense(1)\n",
    "])\n",
    "model.compile(loss=\"mse\", optimizer=Adam(learning_rate=0.001), metrics=[last_time_step_mse])"
   ]
  },
  {
   "cell_type": "markdown",
   "metadata": {},
   "source": [
    "#### Split Dataset (70% for training, 20% for validation and 10% for testing)"
   ]
  },
  {
   "cell_type": "code",
   "execution_count": 10,
   "metadata": {
    "scrolled": true
   },
   "outputs": [
    {
     "name": "stdout",
     "output_type": "stream",
     "text": [
      "Train Set:  10500\n",
      "Test Set:  1500\n",
      "Valid Set:  3000\n"
     ]
    }
   ],
   "source": [
    "X_train, X_temp, y_train, y_temp = train_test_split(X, Y, train_size=7/10, random_state=42)\n",
    "X_valid, X_test, y_valid, y_test = train_test_split(X_temp, y_temp, train_size=2/3, random_state=42)\n",
    "\n",
    "print(\"Train Set: \", X_train.shape[0])\n",
    "print(\"Test Set: \", X_test.shape[0])\n",
    "print(\"Valid Set: \", X_valid.shape[0])"
   ]
  },
  {
   "cell_type": "markdown",
   "metadata": {},
   "source": [
    "#### Train Model"
   ]
  },
  {
   "cell_type": "code",
   "execution_count": 11,
   "metadata": {
    "scrolled": true
   },
   "outputs": [
    {
     "name": "stdout",
     "output_type": "stream",
     "text": [
      "Epoch 1/20\n",
      "WARNING:tensorflow:From D:\\Thong Lai\\.venv\\TensorFlow\\Lib\\site-packages\\keras\\src\\utils\\tf_utils.py:492: The name tf.ragged.RaggedTensorValue is deprecated. Please use tf.compat.v1.ragged.RaggedTensorValue instead.\n",
      "\n",
      "WARNING:tensorflow:From D:\\Thong Lai\\.venv\\TensorFlow\\Lib\\site-packages\\keras\\src\\engine\\base_layer_utils.py:384: The name tf.executing_eagerly_outside_functions is deprecated. Please use tf.compat.v1.executing_eagerly_outside_functions instead.\n",
      "\n",
      "329/329 [==============================] - 2s 3ms/step - loss: 0.0361 - last_time_step_mse: 0.0360 - val_loss: 0.0055 - val_last_time_step_mse: 0.0055\n",
      "Epoch 2/20\n",
      "329/329 [==============================] - 1s 2ms/step - loss: 0.0041 - last_time_step_mse: 0.0041 - val_loss: 0.0036 - val_last_time_step_mse: 0.0036\n",
      "Epoch 3/20\n",
      "329/329 [==============================] - 1s 2ms/step - loss: 0.0035 - last_time_step_mse: 0.0035 - val_loss: 0.0034 - val_last_time_step_mse: 0.0033\n",
      "Epoch 4/20\n",
      "329/329 [==============================] - 1s 2ms/step - loss: 0.0033 - last_time_step_mse: 0.0032 - val_loss: 0.0031 - val_last_time_step_mse: 0.0031\n",
      "Epoch 5/20\n",
      "329/329 [==============================] - 1s 2ms/step - loss: 0.0031 - last_time_step_mse: 0.0031 - val_loss: 0.0033 - val_last_time_step_mse: 0.0033\n",
      "Epoch 6/20\n",
      "329/329 [==============================] - 1s 2ms/step - loss: 0.0029 - last_time_step_mse: 0.0029 - val_loss: 0.0032 - val_last_time_step_mse: 0.0032\n",
      "Epoch 7/20\n",
      "329/329 [==============================] - 1s 2ms/step - loss: 0.0029 - last_time_step_mse: 0.0029 - val_loss: 0.0027 - val_last_time_step_mse: 0.0027\n",
      "Epoch 8/20\n",
      "329/329 [==============================] - 1s 2ms/step - loss: 0.0028 - last_time_step_mse: 0.0028 - val_loss: 0.0027 - val_last_time_step_mse: 0.0027\n",
      "Epoch 9/20\n",
      "329/329 [==============================] - 1s 2ms/step - loss: 0.0027 - last_time_step_mse: 0.0027 - val_loss: 0.0026 - val_last_time_step_mse: 0.0026\n",
      "Epoch 10/20\n",
      "329/329 [==============================] - 1s 2ms/step - loss: 0.0027 - last_time_step_mse: 0.0027 - val_loss: 0.0027 - val_last_time_step_mse: 0.0027\n",
      "Epoch 11/20\n",
      "329/329 [==============================] - 1s 2ms/step - loss: 0.0027 - last_time_step_mse: 0.0027 - val_loss: 0.0025 - val_last_time_step_mse: 0.0025\n",
      "Epoch 12/20\n",
      "329/329 [==============================] - 1s 2ms/step - loss: 0.0027 - last_time_step_mse: 0.0027 - val_loss: 0.0025 - val_last_time_step_mse: 0.0025\n",
      "Epoch 13/20\n",
      "329/329 [==============================] - 1s 2ms/step - loss: 0.0027 - last_time_step_mse: 0.0027 - val_loss: 0.0025 - val_last_time_step_mse: 0.0025\n",
      "Epoch 14/20\n",
      "329/329 [==============================] - 1s 2ms/step - loss: 0.0027 - last_time_step_mse: 0.0027 - val_loss: 0.0025 - val_last_time_step_mse: 0.0025\n",
      "Epoch 15/20\n",
      "329/329 [==============================] - 1s 2ms/step - loss: 0.0026 - last_time_step_mse: 0.0026 - val_loss: 0.0027 - val_last_time_step_mse: 0.0027\n",
      "Epoch 16/20\n",
      "329/329 [==============================] - 1s 2ms/step - loss: 0.0027 - last_time_step_mse: 0.0027 - val_loss: 0.0026 - val_last_time_step_mse: 0.0026\n",
      "Epoch 17/20\n",
      "329/329 [==============================] - 1s 2ms/step - loss: 0.0027 - last_time_step_mse: 0.0027 - val_loss: 0.0026 - val_last_time_step_mse: 0.0026\n",
      "Epoch 18/20\n",
      "329/329 [==============================] - 1s 2ms/step - loss: 0.0027 - last_time_step_mse: 0.0027 - val_loss: 0.0025 - val_last_time_step_mse: 0.0025\n",
      "Epoch 19/20\n",
      "329/329 [==============================] - 1s 2ms/step - loss: 0.0027 - last_time_step_mse: 0.0027 - val_loss: 0.0025 - val_last_time_step_mse: 0.0025\n",
      "Epoch 20/20\n",
      "329/329 [==============================] - 1s 2ms/step - loss: 0.0026 - last_time_step_mse: 0.0026 - val_loss: 0.0026 - val_last_time_step_mse: 0.0026\n"
     ]
    }
   ],
   "source": [
    "loss_values = model.fit(X_train, y_train, epochs=20, validation_data=(X_valid, y_valid))"
   ]
  },
  {
   "cell_type": "markdown",
   "metadata": {},
   "source": [
    "#### Evaluate the model"
   ]
  },
  {
   "cell_type": "code",
   "execution_count": 12,
   "metadata": {
    "scrolled": true
   },
   "outputs": [
    {
     "name": "stdout",
     "output_type": "stream",
     "text": [
      "94/94 [==============================] - 0s 1ms/step - loss: 0.0026 - last_time_step_mse: 0.0026\n"
     ]
    },
    {
     "data": {
      "text/plain": [
       "[0.0026155482046306133, 0.0026170944329351187]"
      ]
     },
     "execution_count": 12,
     "metadata": {},
     "output_type": "execute_result"
    }
   ],
   "source": [
    "model.evaluate(X_valid, y_valid)"
   ]
  },
  {
   "cell_type": "markdown",
   "metadata": {},
   "source": [
    "## Task 3: Plots and Extending the model to forecast sales for multiple months in advance."
   ]
  },
  {
   "cell_type": "markdown",
   "metadata": {},
   "source": [
    "#### Plot the prediction and the actual sale"
   ]
  },
  {
   "cell_type": "code",
   "execution_count": 13,
   "metadata": {},
   "outputs": [
    {
     "name": "stdout",
     "output_type": "stream",
     "text": [
      "47/47 [==============================] - 0s 1ms/step\n"
     ]
    }
   ],
   "source": [
    "predictions = model.predict(X_test)"
   ]
  },
  {
   "cell_type": "code",
   "execution_count": 14,
   "metadata": {},
   "outputs": [
    {
     "name": "stdout",
     "output_type": "stream",
     "text": [
      "Saving figure forecasts_1m_0\n"
     ]
    },
    {
     "data": {
      "image/png": "[encoded data removed]",
      "text/plain": [
       "<Figure size 640x480 with 1 Axes>"
      ]
     },
     "metadata": {},
     "output_type": "display_data"
    }
   ],
   "source": [
    "store_index = 0\n",
    "plot_forecasts(X_test, y_test, predictions, store_index)\n",
    "save_fig(\"forecasts_1m_\" + str(store_index))"
   ]
  },
  {
   "cell_type": "markdown",
   "metadata": {},
   "source": [
    "#### Plot training & validation loss values"
   ]
  },
  {
   "cell_type": "code",
   "execution_count": 15,
   "metadata": {},
   "outputs": [
    {
     "name": "stdout",
     "output_type": "stream",
     "text": [
      "Saving figure loss_graph_1m\n"
     ]
    },
    {
     "data": {
      "image/png": "[encoded data removed]",
      "text/plain": [
       "<Figure size 640x480 with 1 Axes>"
      ]
     },
     "metadata": {},
     "output_type": "display_data"
    }
   ],
   "source": [
    "plot_loss_graph(loss_values.history)\n",
    "save_fig(\"loss_graph_1m\")"
   ]
  },
  {
   "cell_type": "markdown",
   "metadata": {},
   "source": [
    "### Forecast 12 months"
   ]
  },
  {
   "cell_type": "markdown",
   "metadata": {},
   "source": [
    "#### First 50 months sales"
   ]
  },
  {
   "cell_type": "code",
   "execution_count": 16,
   "metadata": {},
   "outputs": [
    {
     "data": {
      "text/plain": [
       "(15000, 50, 1)"
      ]
     },
     "execution_count": 16,
     "metadata": {},
     "output_type": "execute_result"
    }
   ],
   "source": [
    "X = np.array([list(store.values())[:50] for store in data.values()])\n",
    "X = np.expand_dims(X, axis=-1)\n",
    "X.shape"
   ]
  },
  {
   "cell_type": "markdown",
   "metadata": {},
   "source": [
    "#### 12 following months sales"
   ]
  },
  {
   "cell_type": "code",
   "execution_count": 17,
   "metadata": {
    "scrolled": true
   },
   "outputs": [
    {
     "data": {
      "text/plain": [
       "(15000, 12, 1)"
      ]
     },
     "execution_count": 17,
     "metadata": {},
     "output_type": "execute_result"
    }
   ],
   "source": [
    "Y = np.array([list(store.values())[50:62] for store in data.values()])\n",
    "Y = np.expand_dims(Y, axis=-1)\n",
    "Y.shape"
   ]
  },
  {
   "cell_type": "markdown",
   "metadata": {},
   "source": [
    "#### Design model, Split Dataset and Train Model"
   ]
  },
  {
   "cell_type": "code",
   "execution_count": 18,
   "metadata": {},
   "outputs": [],
   "source": [
    "# Split Dataset\n",
    "X_train, X_temp, y_train, y_temp = train_test_split(X, Y, train_size=7/10, random_state=42)\n",
    "X_valid, X_test, y_valid, y_test = train_test_split(X_temp, y_temp, train_size=2/3, random_state=42)"
   ]
  },
  {
   "cell_type": "code",
   "execution_count": 20,
   "metadata": {
    "scrolled": true
   },
   "outputs": [
    {
     "name": "stdout",
     "output_type": "stream",
     "text": [
      "Epoch 1/20\n",
      "329/329 [==============================] - 1s 2ms/step - loss: 0.0737 - last_time_step_mse: 0.0988 - val_loss: 0.0408 - val_last_time_step_mse: 0.0718\n",
      "Epoch 2/20\n",
      "329/329 [==============================] - 1s 2ms/step - loss: 0.0340 - last_time_step_mse: 0.0673 - val_loss: 0.0295 - val_last_time_step_mse: 0.0635\n",
      "Epoch 3/20\n",
      "329/329 [==============================] - 1s 2ms/step - loss: 0.0278 - last_time_step_mse: 0.0620 - val_loss: 0.0268 - val_last_time_step_mse: 0.0599\n",
      "Epoch 4/20\n",
      "329/329 [==============================] - 1s 2ms/step - loss: 0.0253 - last_time_step_mse: 0.0594 - val_loss: 0.0241 - val_last_time_step_mse: 0.0579\n",
      "Epoch 5/20\n",
      "329/329 [==============================] - 1s 2ms/step - loss: 0.0238 - last_time_step_mse: 0.0577 - val_loss: 0.0234 - val_last_time_step_mse: 0.0564\n",
      "Epoch 6/20\n",
      "329/329 [==============================] - 1s 2ms/step - loss: 0.0229 - last_time_step_mse: 0.0566 - val_loss: 0.0226 - val_last_time_step_mse: 0.0559\n",
      "Epoch 7/20\n",
      "329/329 [==============================] - 1s 2ms/step - loss: 0.0224 - last_time_step_mse: 0.0560 - val_loss: 0.0225 - val_last_time_step_mse: 0.0556\n",
      "Epoch 8/20\n",
      "329/329 [==============================] - 1s 2ms/step - loss: 0.0219 - last_time_step_mse: 0.0554 - val_loss: 0.0221 - val_last_time_step_mse: 0.0543\n",
      "Epoch 9/20\n",
      "329/329 [==============================] - 1s 2ms/step - loss: 0.0216 - last_time_step_mse: 0.0549 - val_loss: 0.0215 - val_last_time_step_mse: 0.0545\n",
      "Epoch 10/20\n",
      "329/329 [==============================] - 1s 2ms/step - loss: 0.0215 - last_time_step_mse: 0.0546 - val_loss: 0.0216 - val_last_time_step_mse: 0.0534\n",
      "Epoch 11/20\n",
      "329/329 [==============================] - 1s 2ms/step - loss: 0.0211 - last_time_step_mse: 0.0539 - val_loss: 0.0210 - val_last_time_step_mse: 0.0532\n",
      "Epoch 12/20\n",
      "329/329 [==============================] - 1s 2ms/step - loss: 0.0212 - last_time_step_mse: 0.0539 - val_loss: 0.0210 - val_last_time_step_mse: 0.0524\n",
      "Epoch 13/20\n",
      "329/329 [==============================] - 1s 2ms/step - loss: 0.0209 - last_time_step_mse: 0.0534 - val_loss: 0.0210 - val_last_time_step_mse: 0.0527\n",
      "Epoch 14/20\n",
      "329/329 [==============================] - 1s 2ms/step - loss: 0.0210 - last_time_step_mse: 0.0535 - val_loss: 0.0205 - val_last_time_step_mse: 0.0520\n",
      "Epoch 15/20\n",
      "329/329 [==============================] - 1s 2ms/step - loss: 0.0208 - last_time_step_mse: 0.0534 - val_loss: 0.0205 - val_last_time_step_mse: 0.0521\n",
      "Epoch 16/20\n",
      "329/329 [==============================] - 1s 2ms/step - loss: 0.0207 - last_time_step_mse: 0.0531 - val_loss: 0.0206 - val_last_time_step_mse: 0.0519\n",
      "Epoch 17/20\n",
      "329/329 [==============================] - 1s 2ms/step - loss: 0.0208 - last_time_step_mse: 0.0531 - val_loss: 0.0203 - val_last_time_step_mse: 0.0518\n",
      "Epoch 18/20\n",
      "329/329 [==============================] - 1s 2ms/step - loss: 0.0207 - last_time_step_mse: 0.0529 - val_loss: 0.0204 - val_last_time_step_mse: 0.0512\n",
      "Epoch 19/20\n",
      "329/329 [==============================] - 1s 2ms/step - loss: 0.0206 - last_time_step_mse: 0.0528 - val_loss: 0.0206 - val_last_time_step_mse: 0.0516\n",
      "Epoch 20/20\n",
      "329/329 [==============================] - 1s 2ms/step - loss: 0.0207 - last_time_step_mse: 0.0528 - val_loss: 0.0203 - val_last_time_step_mse: 0.0514\n"
     ]
    }
   ],
   "source": [
    "# Design model\n",
    "model = Sequential([\n",
    "    Flatten(input_shape=[50, 1]),\n",
    "    Dense(16),\n",
    "    Dense(16),\n",
    "    Dense(12)\n",
    "])\n",
    "model.compile(loss=\"mse\", optimizer=Adam(learning_rate=0.001), metrics=[last_time_step_mse])\n",
    "\n",
    "# Train Model\n",
    "loss_values = model.fit(X_train, y_train, epochs=20, validation_data=(X_valid, y_valid))"
   ]
  },
  {
   "cell_type": "markdown",
   "metadata": {},
   "source": [
    "#### Evaluate and plot the model"
   ]
  },
  {
   "cell_type": "code",
   "execution_count": 21,
   "metadata": {},
   "outputs": [
    {
     "name": "stdout",
     "output_type": "stream",
     "text": [
      "94/94 [==============================] - 0s 1ms/step - loss: 0.0203 - last_time_step_mse: 0.0514\n"
     ]
    },
    {
     "data": {
      "text/plain": [
       "[0.020305398851633072, 0.05141810327768326]"
      ]
     },
     "execution_count": 21,
     "metadata": {},
     "output_type": "execute_result"
    }
   ],
   "source": [
    "model.evaluate(X_valid, y_valid)"
   ]
  },
  {
   "cell_type": "code",
   "execution_count": 22,
   "metadata": {},
   "outputs": [
    {
     "name": "stdout",
     "output_type": "stream",
     "text": [
      "47/47 [==============================] - 0s 1ms/step\n"
     ]
    }
   ],
   "source": [
    "predictions = np.expand_dims(model.predict(X_test), axis=-1)"
   ]
  },
  {
   "cell_type": "code",
   "execution_count": 23,
   "metadata": {},
   "outputs": [
    {
     "name": "stdout",
     "output_type": "stream",
     "text": [
      "Saving figure forecasts_12m_100\n"
     ]
    },
    {
     "data": {
      "image/png": "[encoded data removed]",
      "text/plain": [
       "<Figure size 640x480 with 1 Axes>"
      ]
     },
     "metadata": {},
     "output_type": "display_data"
    }
   ],
   "source": [
    "store_index = 100\n",
    "plot_forecasts(X_test, y_test, predictions, store_index)\n",
    "save_fig(\"forecasts_12m_\" + str(store_index))"
   ]
  },
  {
   "cell_type": "code",
   "execution_count": 24,
   "metadata": {},
   "outputs": [
    {
     "name": "stdout",
     "output_type": "stream",
     "text": [
      "Saving figure loss_graph_12m\n"
     ]
    },
    {
     "data": {
      "image/png": "[encoded data removed]",
      "text/plain": [
       "<Figure size 640x480 with 1 Axes>"
      ]
     },
     "metadata": {},
     "output_type": "display_data"
    }
   ],
   "source": [
    "plot_loss_graph(loss_values.history)\n",
    "save_fig(\"loss_graph_12m\")"
   ]
  },
  {
   "cell_type": "code",
   "execution_count": 19,
   "metadata": {},
   "outputs": [],
   "source": [
    "# # DIFFERENT METHOD (SEQUENCE TO SEQUENCE)\n",
    "# # Use the model for 1 month ahead prediction, where the model takes a sequence of input time steps and outputs a sequence of future time steps.\n",
    "\n",
    "# predictions_ = np.expand_dims(model.predict(X_test), axis=-1)\n",
    "# current_input = X_test \n",
    "# for _ in range(11): \n",
    "#     # Predict the next time step\n",
    "#     next_prediction = np.expand_dims(model.predict(current_input), axis=-1)\n",
    "#     predictions_ = np.concatenate([predictions_, next_prediction], axis=1)\n",
    "#     # Update the input for the next prediction\n",
    "#     current_input = np.concatenate([current_input[:, 1:, :], next_prediction], axis=1)"
   ]
  },
  {
   "cell_type": "code",
   "execution_count": 25,
   "metadata": {},
   "outputs": [],
   "source": [
    "# # Compare 2 methods\n",
    "# store_index = 10\n",
    "# plot_forecasts(X_test, y_test, predictions_, store_index)\n",
    "# plt.show()\n",
    "# plot_forecasts(X_test, y_test, predictions, store_index)\n",
    "# plt.show()"
   ]
  },
  {
   "cell_type": "markdown",
   "metadata": {},
   "source": [
    "## Task 4: Generating a CSV file with predicted sales for the next 12 months."
   ]
  },
  {
   "cell_type": "markdown",
   "metadata": {},
   "source": [
    "#### Get data of 62 months"
   ]
  },
  {
   "cell_type": "code",
   "execution_count": 26,
   "metadata": {},
   "outputs": [
    {
     "data": {
      "text/plain": [
       "(15000, 50, 1)"
      ]
     },
     "execution_count": 26,
     "metadata": {},
     "output_type": "execute_result"
    }
   ],
   "source": [
    "X = np.array([list(store.values())[:-12] for store in data.values()])\n",
    "X = np.expand_dims(X, axis=-1)\n",
    "X.shape"
   ]
  },
  {
   "cell_type": "code",
   "execution_count": 27,
   "metadata": {},
   "outputs": [
    {
     "data": {
      "text/plain": [
       "(15000, 12, 1)"
      ]
     },
     "execution_count": 27,
     "metadata": {},
     "output_type": "execute_result"
    }
   ],
   "source": [
    "Y = np.array([list(store.values())[-12:] for store in data.values()])\n",
    "Y = np.expand_dims(Y, axis=-1)\n",
    "Y.shape"
   ]
  },
  {
   "cell_type": "markdown",
   "metadata": {},
   "source": [
    "#### Train Model"
   ]
  },
  {
   "cell_type": "code",
   "execution_count": 28,
   "metadata": {
    "scrolled": true
   },
   "outputs": [
    {
     "name": "stdout",
     "output_type": "stream",
     "text": [
      "Epoch 1/20\n",
      "329/329 [==============================] - 1s 2ms/step - loss: 0.0702 - last_time_step_mse: 0.0953 - val_loss: 0.0376 - val_last_time_step_mse: 0.0724\n",
      "Epoch 2/20\n",
      "329/329 [==============================] - 1s 2ms/step - loss: 0.0315 - last_time_step_mse: 0.0672 - val_loss: 0.0276 - val_last_time_step_mse: 0.0628\n",
      "Epoch 3/20\n",
      "329/329 [==============================] - 1s 2ms/step - loss: 0.0260 - last_time_step_mse: 0.0606 - val_loss: 0.0249 - val_last_time_step_mse: 0.0581\n",
      "Epoch 4/20\n",
      "329/329 [==============================] - 1s 2ms/step - loss: 0.0239 - last_time_step_mse: 0.0580 - val_loss: 0.0229 - val_last_time_step_mse: 0.0560\n",
      "Epoch 5/20\n",
      "329/329 [==============================] - 1s 2ms/step - loss: 0.0230 - last_time_step_mse: 0.0569 - val_loss: 0.0232 - val_last_time_step_mse: 0.0551\n",
      "Epoch 6/20\n",
      "329/329 [==============================] - 1s 2ms/step - loss: 0.0223 - last_time_step_mse: 0.0559 - val_loss: 0.0223 - val_last_time_step_mse: 0.0546\n",
      "Epoch 7/20\n",
      "329/329 [==============================] - 1s 2ms/step - loss: 0.0219 - last_time_step_mse: 0.0553 - val_loss: 0.0226 - val_last_time_step_mse: 0.0556\n",
      "Epoch 8/20\n",
      "329/329 [==============================] - 1s 2ms/step - loss: 0.0216 - last_time_step_mse: 0.0548 - val_loss: 0.0216 - val_last_time_step_mse: 0.0534\n",
      "Epoch 9/20\n",
      "329/329 [==============================] - 1s 2ms/step - loss: 0.0214 - last_time_step_mse: 0.0544 - val_loss: 0.0211 - val_last_time_step_mse: 0.0534\n",
      "Epoch 10/20\n",
      "329/329 [==============================] - 1s 2ms/step - loss: 0.0213 - last_time_step_mse: 0.0542 - val_loss: 0.0216 - val_last_time_step_mse: 0.0534\n",
      "Epoch 11/20\n",
      "329/329 [==============================] - 1s 2ms/step - loss: 0.0209 - last_time_step_mse: 0.0535 - val_loss: 0.0209 - val_last_time_step_mse: 0.0533\n",
      "Epoch 12/20\n",
      "329/329 [==============================] - 1s 2ms/step - loss: 0.0210 - last_time_step_mse: 0.0535 - val_loss: 0.0210 - val_last_time_step_mse: 0.0522\n",
      "Epoch 13/20\n",
      "329/329 [==============================] - 1s 2ms/step - loss: 0.0208 - last_time_step_mse: 0.0532 - val_loss: 0.0211 - val_last_time_step_mse: 0.0531\n",
      "Epoch 14/20\n",
      "329/329 [==============================] - 1s 2ms/step - loss: 0.0209 - last_time_step_mse: 0.0534 - val_loss: 0.0206 - val_last_time_step_mse: 0.0518\n",
      "Epoch 15/20\n",
      "329/329 [==============================] - 1s 2ms/step - loss: 0.0207 - last_time_step_mse: 0.0532 - val_loss: 0.0205 - val_last_time_step_mse: 0.0517\n",
      "Epoch 16/20\n",
      "329/329 [==============================] - 1s 2ms/step - loss: 0.0206 - last_time_step_mse: 0.0529 - val_loss: 0.0208 - val_last_time_step_mse: 0.0522\n",
      "Epoch 17/20\n",
      "329/329 [==============================] - 1s 2ms/step - loss: 0.0208 - last_time_step_mse: 0.0531 - val_loss: 0.0204 - val_last_time_step_mse: 0.0520\n",
      "Epoch 18/20\n",
      "329/329 [==============================] - 1s 2ms/step - loss: 0.0206 - last_time_step_mse: 0.0528 - val_loss: 0.0203 - val_last_time_step_mse: 0.0510\n",
      "Epoch 19/20\n",
      "329/329 [==============================] - 1s 2ms/step - loss: 0.0205 - last_time_step_mse: 0.0527 - val_loss: 0.0206 - val_last_time_step_mse: 0.0520\n",
      "Epoch 20/20\n",
      "329/329 [==============================] - 1s 2ms/step - loss: 0.0206 - last_time_step_mse: 0.0527 - val_loss: 0.0203 - val_last_time_step_mse: 0.0513\n",
      "94/94 [==============================] - 0s 1ms/step - loss: 0.0203 - last_time_step_mse: 0.0513\n"
     ]
    },
    {
     "data": {
      "text/plain": [
       "[0.020320521667599678, 0.05130593851208687]"
      ]
     },
     "execution_count": 28,
     "metadata": {},
     "output_type": "execute_result"
    }
   ],
   "source": [
    "# Design model\n",
    "model = Sequential([\n",
    "    Flatten(input_shape=[50, 1]),\n",
    "    Dense(16),\n",
    "    Dense(16),\n",
    "    Dense(12)\n",
    "])\n",
    "model.compile(loss=\"mse\", optimizer=Adam(learning_rate=0.001), metrics=[last_time_step_mse])\n",
    "\n",
    "# Split Dataset\n",
    "X_train, X_temp, y_train, y_temp = train_test_split(X, Y, train_size=7/10, random_state=42)\n",
    "X_valid, X_test, y_valid, y_test = train_test_split(X_temp, y_temp, train_size=2/3, random_state=42)\n",
    "\n",
    "# Train Model\n",
    "loss_values = model.fit(X_train, y_train, epochs=20, validation_data=(X_valid, y_valid))\n",
    "\n",
    "# Model Evaluation\n",
    "model.evaluate(X_valid, y_valid)"
   ]
  },
  {
   "cell_type": "markdown",
   "metadata": {},
   "source": [
    "#### Make predictions for 12 days later"
   ]
  },
  {
   "cell_type": "code",
   "execution_count": 30,
   "metadata": {},
   "outputs": [
    {
     "data": {
      "text/plain": [
       "(15000, 62, 1)"
      ]
     },
     "execution_count": 30,
     "metadata": {},
     "output_type": "execute_result"
    }
   ],
   "source": [
    "full_data = np.array([list(store.values()) for store in data.values()])\n",
    "full_data = np.expand_dims(full_data, axis=-1)\n",
    "full_data.shape"
   ]
  },
  {
   "cell_type": "code",
   "execution_count": 31,
   "metadata": {
    "scrolled": true
   },
   "outputs": [
    {
     "name": "stdout",
     "output_type": "stream",
     "text": [
      "469/469 [==============================] - 1s 1ms/step\n"
     ]
    }
   ],
   "source": [
    "predictions = np.expand_dims(model.predict(full_data[:, 12:]), axis=-1)"
   ]
  },
  {
   "cell_type": "code",
   "execution_count": 32,
   "metadata": {},
   "outputs": [
    {
     "name": "stdout",
     "output_type": "stream",
     "text": [
      "Saving figure forecasts_12m_ahead_0\n"
     ]
    },
    {
     "data": {
      "image/png": "[encoded data removed]",
      "text/plain": [
       "<Figure size 640x480 with 1 Axes>"
      ]
     },
     "metadata": {},
     "output_type": "display_data"
    }
   ],
   "source": [
    "store_index = 0\n",
    "plot_forecasts(full_data, [], predictions, store_index)\n",
    "save_fig(\"forecasts_12m_ahead_\" + str(store_index))"
   ]
  },
  {
   "cell_type": "code",
   "execution_count": 33,
   "metadata": {
    "scrolled": true
   },
   "outputs": [],
   "source": [
    "# # DIFFERENT METHOD (SEQUENCE TO SEQUENCE)\n",
    "\n",
    "# X = np.array([list(store.values())[:-1] for store in data.values()])\n",
    "# X = np.expand_dims(X, axis=-1)\n",
    "\n",
    "# Y = np.array([list(store.values())[-1] for store in data.values()])\n",
    "# Y = np.expand_dims(Y, axis=-1)\n",
    "\n",
    "# # Design model\n",
    "# model = Sequential([\n",
    "#     Flatten(input_shape=[61, 1]),\n",
    "#     Dense(16),\n",
    "#     Dense(16),\n",
    "#     Dense(1)\n",
    "# ])\n",
    "# model.compile(loss=\"mse\", optimizer=Adam(learning_rate=0.001), metrics=[last_time_step_mse])\n",
    "\n",
    "\n",
    "# # Train Model\n",
    "# loss_values = model.fit(X, Y, epochs=20)\n",
    "\n",
    "# predictions_ = np.expand_dims(model.predict(X), axis=-1)\n",
    "# current_input = X\n",
    "# for _ in range(11): \n",
    "#     # Predict the next time step\n",
    "#     next_prediction = np.expand_dims(model.predict(current_input), axis=-1)\n",
    "#     predictions_ = np.concatenate([predictions_, next_prediction], axis=1)\n",
    "#     # Update the input for the next prediction\n",
    "#     current_input = np.concatenate([current_input[:, 1:, :], next_prediction], axis=1)"
   ]
  },
  {
   "cell_type": "code",
   "execution_count": 34,
   "metadata": {},
   "outputs": [],
   "source": [
    "# store_index = 33\n",
    "# plot_forecasts(full_data, predictions, predictions_, store_index, 'Method 1', 'Method 2')"
   ]
  },
  {
   "cell_type": "markdown",
   "metadata": {},
   "source": [
    "#### Output into CSV file"
   ]
  },
  {
   "cell_type": "code",
   "execution_count": 35,
   "metadata": {},
   "outputs": [
    {
     "data": {
      "text/html": [
       "<div>\n",
       "<style scoped>\n",
       "    .dataframe tbody tr th:only-of-type {\n",
       "        vertical-align: middle;\n",
       "    }\n",
       "\n",
       "    .dataframe tbody tr th {\n",
       "        vertical-align: top;\n",
       "    }\n",
       "\n",
       "    .dataframe thead th {\n",
       "        text-align: right;\n",
       "    }\n",
       "</style>\n",
       "<table border=\"1\" class=\"dataframe\">\n",
       "  <thead>\n",
       "    <tr style=\"text-align: right;\">\n",
       "      <th></th>\n",
       "      <th>month_63</th>\n",
       "      <th>month_64</th>\n",
       "      <th>month_65</th>\n",
       "      <th>month_66</th>\n",
       "      <th>month_67</th>\n",
       "      <th>month_68</th>\n",
       "      <th>month_69</th>\n",
       "      <th>month_70</th>\n",
       "      <th>month_71</th>\n",
       "      <th>month_72</th>\n",
       "      <th>month_73</th>\n",
       "      <th>month_74</th>\n",
       "      <th>mean</th>\n",
       "      <th>std</th>\n",
       "      <th>min</th>\n",
       "      <th>25%</th>\n",
       "      <th>50%</th>\n",
       "      <th>75%</th>\n",
       "      <th>max</th>\n",
       "    </tr>\n",
       "    <tr>\n",
       "      <th>Store_ID</th>\n",
       "      <th></th>\n",
       "      <th></th>\n",
       "      <th></th>\n",
       "      <th></th>\n",
       "      <th></th>\n",
       "      <th></th>\n",
       "      <th></th>\n",
       "      <th></th>\n",
       "      <th></th>\n",
       "      <th></th>\n",
       "      <th></th>\n",
       "      <th></th>\n",
       "      <th></th>\n",
       "      <th></th>\n",
       "      <th></th>\n",
       "      <th></th>\n",
       "      <th></th>\n",
       "      <th></th>\n",
       "      <th></th>\n",
       "    </tr>\n",
       "  </thead>\n",
       "  <tbody>\n",
       "    <tr>\n",
       "      <th>3cdfe9e4-eb23-4217-9994-0d25b751b26e</th>\n",
       "      <td>-0.206388</td>\n",
       "      <td>-0.146422</td>\n",
       "      <td>-0.094411</td>\n",
       "      <td>-0.030221</td>\n",
       "      <td>0.010160</td>\n",
       "      <td>0.051630</td>\n",
       "      <td>0.098255</td>\n",
       "      <td>0.156844</td>\n",
       "      <td>0.223934</td>\n",
       "      <td>0.270112</td>\n",
       "      <td>0.307879</td>\n",
       "      <td>0.308737</td>\n",
       "      <td>0.079176</td>\n",
       "      <td>0.178089</td>\n",
       "      <td>-0.206388</td>\n",
       "      <td>-0.046269</td>\n",
       "      <td>0.074943</td>\n",
       "      <td>0.235479</td>\n",
       "      <td>0.308737</td>\n",
       "    </tr>\n",
       "    <tr>\n",
       "      <th>7ed52546-94f0-4ec3-8e01-0c7903a0860c</th>\n",
       "      <td>-0.407804</td>\n",
       "      <td>-0.347922</td>\n",
       "      <td>-0.277775</td>\n",
       "      <td>-0.201725</td>\n",
       "      <td>-0.132597</td>\n",
       "      <td>-0.096095</td>\n",
       "      <td>-0.042644</td>\n",
       "      <td>0.005192</td>\n",
       "      <td>0.109233</td>\n",
       "      <td>0.200713</td>\n",
       "      <td>0.329688</td>\n",
       "      <td>0.388595</td>\n",
       "      <td>-0.039428</td>\n",
       "      <td>0.257104</td>\n",
       "      <td>-0.407804</td>\n",
       "      <td>-0.220738</td>\n",
       "      <td>-0.069370</td>\n",
       "      <td>0.132103</td>\n",
       "      <td>0.388595</td>\n",
       "    </tr>\n",
       "    <tr>\n",
       "      <th>4e228000-3567-4633-9978-69380b544e55</th>\n",
       "      <td>0.519761</td>\n",
       "      <td>0.645925</td>\n",
       "      <td>0.689613</td>\n",
       "      <td>0.641044</td>\n",
       "      <td>0.491322</td>\n",
       "      <td>0.304120</td>\n",
       "      <td>0.072724</td>\n",
       "      <td>-0.129854</td>\n",
       "      <td>-0.280913</td>\n",
       "      <td>-0.371103</td>\n",
       "      <td>-0.387798</td>\n",
       "      <td>-0.385260</td>\n",
       "      <td>0.150798</td>\n",
       "      <td>0.444407</td>\n",
       "      <td>-0.387798</td>\n",
       "      <td>-0.303460</td>\n",
       "      <td>0.188422</td>\n",
       "      <td>0.550082</td>\n",
       "      <td>0.689613</td>\n",
       "    </tr>\n",
       "    <tr>\n",
       "      <th>cd5ec446-5a0d-4a15-95c3-6e9d4a7939bc</th>\n",
       "      <td>-0.049382</td>\n",
       "      <td>0.061728</td>\n",
       "      <td>0.173740</td>\n",
       "      <td>0.270684</td>\n",
       "      <td>0.343964</td>\n",
       "      <td>0.377239</td>\n",
       "      <td>0.366375</td>\n",
       "      <td>0.326291</td>\n",
       "      <td>0.243444</td>\n",
       "      <td>0.143844</td>\n",
       "      <td>0.047403</td>\n",
       "      <td>-0.014514</td>\n",
       "      <td>0.190901</td>\n",
       "      <td>0.152588</td>\n",
       "      <td>-0.049382</td>\n",
       "      <td>0.058146</td>\n",
       "      <td>0.208592</td>\n",
       "      <td>0.330709</td>\n",
       "      <td>0.377239</td>\n",
       "    </tr>\n",
       "    <tr>\n",
       "      <th>095012c8-46b8-4567-956f-cd55ba18367c</th>\n",
       "      <td>-0.537840</td>\n",
       "      <td>-0.561910</td>\n",
       "      <td>-0.524144</td>\n",
       "      <td>-0.437736</td>\n",
       "      <td>-0.308619</td>\n",
       "      <td>-0.182975</td>\n",
       "      <td>-0.024467</td>\n",
       "      <td>0.108423</td>\n",
       "      <td>0.201800</td>\n",
       "      <td>0.273424</td>\n",
       "      <td>0.281928</td>\n",
       "      <td>0.292344</td>\n",
       "      <td>-0.118314</td>\n",
       "      <td>0.347051</td>\n",
       "      <td>-0.561910</td>\n",
       "      <td>-0.459338</td>\n",
       "      <td>-0.103721</td>\n",
       "      <td>0.219706</td>\n",
       "      <td>0.292344</td>\n",
       "    </tr>\n",
       "    <tr>\n",
       "      <th>...</th>\n",
       "      <td>...</td>\n",
       "      <td>...</td>\n",
       "      <td>...</td>\n",
       "      <td>...</td>\n",
       "      <td>...</td>\n",
       "      <td>...</td>\n",
       "      <td>...</td>\n",
       "      <td>...</td>\n",
       "      <td>...</td>\n",
       "      <td>...</td>\n",
       "      <td>...</td>\n",
       "      <td>...</td>\n",
       "      <td>...</td>\n",
       "      <td>...</td>\n",
       "      <td>...</td>\n",
       "      <td>...</td>\n",
       "      <td>...</td>\n",
       "      <td>...</td>\n",
       "      <td>...</td>\n",
       "    </tr>\n",
       "    <tr>\n",
       "      <th>a339a06b-29b5-497c-912c-ff533df7a2a0</th>\n",
       "      <td>0.599413</td>\n",
       "      <td>0.544977</td>\n",
       "      <td>0.430493</td>\n",
       "      <td>0.278801</td>\n",
       "      <td>0.144498</td>\n",
       "      <td>0.060855</td>\n",
       "      <td>0.030218</td>\n",
       "      <td>0.042713</td>\n",
       "      <td>0.065855</td>\n",
       "      <td>0.067802</td>\n",
       "      <td>0.036403</td>\n",
       "      <td>-0.054859</td>\n",
       "      <td>0.187264</td>\n",
       "      <td>0.221385</td>\n",
       "      <td>-0.054859</td>\n",
       "      <td>0.041135</td>\n",
       "      <td>0.066828</td>\n",
       "      <td>0.316724</td>\n",
       "      <td>0.599413</td>\n",
       "    </tr>\n",
       "    <tr>\n",
       "      <th>352022d1-b786-4575-8ac3-81348b8d4dca</th>\n",
       "      <td>0.333327</td>\n",
       "      <td>0.202406</td>\n",
       "      <td>0.089610</td>\n",
       "      <td>0.007695</td>\n",
       "      <td>-0.035201</td>\n",
       "      <td>-0.031599</td>\n",
       "      <td>-0.040344</td>\n",
       "      <td>-0.050740</td>\n",
       "      <td>-0.078800</td>\n",
       "      <td>-0.125147</td>\n",
       "      <td>-0.183529</td>\n",
       "      <td>-0.247129</td>\n",
       "      <td>-0.013287</td>\n",
       "      <td>0.159861</td>\n",
       "      <td>-0.247129</td>\n",
       "      <td>-0.090387</td>\n",
       "      <td>-0.037772</td>\n",
       "      <td>0.028174</td>\n",
       "      <td>0.333327</td>\n",
       "    </tr>\n",
       "    <tr>\n",
       "      <th>56927892-1051-41c4-9032-ce1b51224c8f</th>\n",
       "      <td>0.437634</td>\n",
       "      <td>0.473676</td>\n",
       "      <td>0.481064</td>\n",
       "      <td>0.481247</td>\n",
       "      <td>0.518662</td>\n",
       "      <td>0.542304</td>\n",
       "      <td>0.532559</td>\n",
       "      <td>0.513148</td>\n",
       "      <td>0.471128</td>\n",
       "      <td>0.362160</td>\n",
       "      <td>0.239309</td>\n",
       "      <td>0.084501</td>\n",
       "      <td>0.428116</td>\n",
       "      <td>0.137209</td>\n",
       "      <td>0.084501</td>\n",
       "      <td>0.418765</td>\n",
       "      <td>0.477370</td>\n",
       "      <td>0.514526</td>\n",
       "      <td>0.542304</td>\n",
       "    </tr>\n",
       "    <tr>\n",
       "      <th>4b752a05-bb21-46b6-9dc7-4fe60b22c77c</th>\n",
       "      <td>-0.293250</td>\n",
       "      <td>-0.161842</td>\n",
       "      <td>0.011878</td>\n",
       "      <td>0.182174</td>\n",
       "      <td>0.340215</td>\n",
       "      <td>0.450164</td>\n",
       "      <td>0.524001</td>\n",
       "      <td>0.527433</td>\n",
       "      <td>0.483043</td>\n",
       "      <td>0.402613</td>\n",
       "      <td>0.285235</td>\n",
       "      <td>0.177340</td>\n",
       "      <td>0.244084</td>\n",
       "      <td>0.271358</td>\n",
       "      <td>-0.293250</td>\n",
       "      <td>0.135974</td>\n",
       "      <td>0.312725</td>\n",
       "      <td>0.458384</td>\n",
       "      <td>0.527433</td>\n",
       "    </tr>\n",
       "    <tr>\n",
       "      <th>b9aa81f1-5f87-452f-a447-a08484f2132c</th>\n",
       "      <td>0.364170</td>\n",
       "      <td>0.387665</td>\n",
       "      <td>0.382789</td>\n",
       "      <td>0.331161</td>\n",
       "      <td>0.234997</td>\n",
       "      <td>0.106265</td>\n",
       "      <td>-0.041652</td>\n",
       "      <td>-0.166385</td>\n",
       "      <td>-0.256733</td>\n",
       "      <td>-0.304128</td>\n",
       "      <td>-0.312516</td>\n",
       "      <td>-0.301561</td>\n",
       "      <td>0.035339</td>\n",
       "      <td>0.296504</td>\n",
       "      <td>-0.312516</td>\n",
       "      <td>-0.267940</td>\n",
       "      <td>0.032306</td>\n",
       "      <td>0.339414</td>\n",
       "      <td>0.387665</td>\n",
       "    </tr>\n",
       "  </tbody>\n",
       "</table>\n",
       "<p>15000 rows × 19 columns</p>\n",
       "</div>"
      ],
      "text/plain": [
       "                                      month_63  month_64  month_65  month_66  \\\n",
       "Store_ID                                                                       \n",
       "3cdfe9e4-eb23-4217-9994-0d25b751b26e -0.206388 -0.146422 -0.094411 -0.030221   \n",
       "7ed52546-94f0-4ec3-8e01-0c7903a0860c -0.407804 -0.347922 -0.277775 -0.201725   \n",
       "4e228000-3567-4633-9978-69380b544e55  0.519761  0.645925  0.689613  0.641044   \n",
       "cd5ec446-5a0d-4a15-95c3-6e9d4a7939bc -0.049382  0.061728  0.173740  0.270684   \n",
       "095012c8-46b8-4567-956f-cd55ba18367c -0.537840 -0.561910 -0.524144 -0.437736   \n",
       "...                                        ...       ...       ...       ...   \n",
       "a339a06b-29b5-497c-912c-ff533df7a2a0  0.599413  0.544977  0.430493  0.278801   \n",
       "352022d1-b786-4575-8ac3-81348b8d4dca  0.333327  0.202406  0.089610  0.007695   \n",
       "56927892-1051-41c4-9032-ce1b51224c8f  0.437634  0.473676  0.481064  0.481247   \n",
       "4b752a05-bb21-46b6-9dc7-4fe60b22c77c -0.293250 -0.161842  0.011878  0.182174   \n",
       "b9aa81f1-5f87-452f-a447-a08484f2132c  0.364170  0.387665  0.382789  0.331161   \n",
       "\n",
       "                                      month_67  month_68  month_69  month_70  \\\n",
       "Store_ID                                                                       \n",
       "3cdfe9e4-eb23-4217-9994-0d25b751b26e  0.010160  0.051630  0.098255  0.156844   \n",
       "7ed52546-94f0-4ec3-8e01-0c7903a0860c -0.132597 -0.096095 -0.042644  0.005192   \n",
       "4e228000-3567-4633-9978-69380b544e55  0.491322  0.304120  0.072724 -0.129854   \n",
       "cd5ec446-5a0d-4a15-95c3-6e9d4a7939bc  0.343964  0.377239  0.366375  0.326291   \n",
       "095012c8-46b8-4567-956f-cd55ba18367c -0.308619 -0.182975 -0.024467  0.108423   \n",
       "...                                        ...       ...       ...       ...   \n",
       "a339a06b-29b5-497c-912c-ff533df7a2a0  0.144498  0.060855  0.030218  0.042713   \n",
       "352022d1-b786-4575-8ac3-81348b8d4dca -0.035201 -0.031599 -0.040344 -0.050740   \n",
       "56927892-1051-41c4-9032-ce1b51224c8f  0.518662  0.542304  0.532559  0.513148   \n",
       "4b752a05-bb21-46b6-9dc7-4fe60b22c77c  0.340215  0.450164  0.524001  0.527433   \n",
       "b9aa81f1-5f87-452f-a447-a08484f2132c  0.234997  0.106265 -0.041652 -0.166385   \n",
       "\n",
       "                                      month_71  month_72  month_73  month_74  \\\n",
       "Store_ID                                                                       \n",
       "3cdfe9e4-eb23-4217-9994-0d25b751b26e  0.223934  0.270112  0.307879  0.308737   \n",
       "7ed52546-94f0-4ec3-8e01-0c7903a0860c  0.109233  0.200713  0.329688  0.388595   \n",
       "4e228000-3567-4633-9978-69380b544e55 -0.280913 -0.371103 -0.387798 -0.385260   \n",
       "cd5ec446-5a0d-4a15-95c3-6e9d4a7939bc  0.243444  0.143844  0.047403 -0.014514   \n",
       "095012c8-46b8-4567-956f-cd55ba18367c  0.201800  0.273424  0.281928  0.292344   \n",
       "...                                        ...       ...       ...       ...   \n",
       "a339a06b-29b5-497c-912c-ff533df7a2a0  0.065855  0.067802  0.036403 -0.054859   \n",
       "352022d1-b786-4575-8ac3-81348b8d4dca -0.078800 -0.125147 -0.183529 -0.247129   \n",
       "56927892-1051-41c4-9032-ce1b51224c8f  0.471128  0.362160  0.239309  0.084501   \n",
       "4b752a05-bb21-46b6-9dc7-4fe60b22c77c  0.483043  0.402613  0.285235  0.177340   \n",
       "b9aa81f1-5f87-452f-a447-a08484f2132c -0.256733 -0.304128 -0.312516 -0.301561   \n",
       "\n",
       "                                          mean       std       min       25%  \\\n",
       "Store_ID                                                                       \n",
       "3cdfe9e4-eb23-4217-9994-0d25b751b26e  0.079176  0.178089 -0.206388 -0.046269   \n",
       "7ed52546-94f0-4ec3-8e01-0c7903a0860c -0.039428  0.257104 -0.407804 -0.220738   \n",
       "4e228000-3567-4633-9978-69380b544e55  0.150798  0.444407 -0.387798 -0.303460   \n",
       "cd5ec446-5a0d-4a15-95c3-6e9d4a7939bc  0.190901  0.152588 -0.049382  0.058146   \n",
       "095012c8-46b8-4567-956f-cd55ba18367c -0.118314  0.347051 -0.561910 -0.459338   \n",
       "...                                        ...       ...       ...       ...   \n",
       "a339a06b-29b5-497c-912c-ff533df7a2a0  0.187264  0.221385 -0.054859  0.041135   \n",
       "352022d1-b786-4575-8ac3-81348b8d4dca -0.013287  0.159861 -0.247129 -0.090387   \n",
       "56927892-1051-41c4-9032-ce1b51224c8f  0.428116  0.137209  0.084501  0.418765   \n",
       "4b752a05-bb21-46b6-9dc7-4fe60b22c77c  0.244084  0.271358 -0.293250  0.135974   \n",
       "b9aa81f1-5f87-452f-a447-a08484f2132c  0.035339  0.296504 -0.312516 -0.267940   \n",
       "\n",
       "                                           50%       75%       max  \n",
       "Store_ID                                                            \n",
       "3cdfe9e4-eb23-4217-9994-0d25b751b26e  0.074943  0.235479  0.308737  \n",
       "7ed52546-94f0-4ec3-8e01-0c7903a0860c -0.069370  0.132103  0.388595  \n",
       "4e228000-3567-4633-9978-69380b544e55  0.188422  0.550082  0.689613  \n",
       "cd5ec446-5a0d-4a15-95c3-6e9d4a7939bc  0.208592  0.330709  0.377239  \n",
       "095012c8-46b8-4567-956f-cd55ba18367c -0.103721  0.219706  0.292344  \n",
       "...                                        ...       ...       ...  \n",
       "a339a06b-29b5-497c-912c-ff533df7a2a0  0.066828  0.316724  0.599413  \n",
       "352022d1-b786-4575-8ac3-81348b8d4dca -0.037772  0.028174  0.333327  \n",
       "56927892-1051-41c4-9032-ce1b51224c8f  0.477370  0.514526  0.542304  \n",
       "4b752a05-bb21-46b6-9dc7-4fe60b22c77c  0.312725  0.458384  0.527433  \n",
       "b9aa81f1-5f87-452f-a447-a08484f2132c  0.032306  0.339414  0.387665  \n",
       "\n",
       "[15000 rows x 19 columns]"
      ]
     },
     "execution_count": 35,
     "metadata": {},
     "output_type": "execute_result"
    }
   ],
   "source": [
    "output_preds = pd.concat([pd.DataFrame(data.keys(), columns=[\"Store_ID\"]), \n",
    "                          pd.DataFrame(predictions.squeeze(), columns=[\"month_\" + str(m) for m in range(63, 63+12)])], axis=1)\n",
    "output_preds.set_index([\"Store_ID\"], inplace=True)\n",
    "output_preds = pd.concat([output_preds, output_preds.T.describe().iloc[1:].T], axis=1)\n",
    "output_preds"
   ]
  },
  {
   "cell_type": "code",
   "execution_count": 36,
   "metadata": {},
   "outputs": [],
   "source": [
    "output_preds.to_csv(\"forecasts_12m_ahead.csv\")"
   ]
  }
 ],
 "metadata": {
  "kernelspec": {
   "display_name": "TensorFlow",
   "language": "python",
   "name": "tensorflow"
  },
  "language_info": {
   "codemirror_mode": {
    "name": "ipython",
    "version": 3
   },
   "file_extension": ".py",
   "mimetype": "text/x-python",
   "name": "python",
   "nbconvert_exporter": "python",
   "pygments_lexer": "ipython3",
   "version": "3.11.3"
  }
 },
 "nbformat": 4,
 "nbformat_minor": 4
}
